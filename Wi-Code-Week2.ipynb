{
 "cells": [
  {
   "cell_type": "code",
   "execution_count": 1,
   "id": "a93e0b60-ddec-483d-8291-d9c077836790",
   "metadata": {},
   "outputs": [
    {
     "name": "stdout",
     "output_type": "stream",
     "text": [
      "x: 3.0 , type: <class 'float'>\n",
      "y: 4 , type: <class 'int'>\n",
      "z: 8 , type: <class 'int'>\n",
      "a: 12.0 , type: <class 'float'>\n",
      "b: 46 , type: <class 'int'>\n"
     ]
    }
   ],
   "source": [
    "# 1. x = 3 ----> floata çevirelim. Çevirdikten sonra beri tipinide yazdıralım.\n",
    "x = 3\n",
    "x = float(x)\n",
    "print(\"x:\", x, \", type:\", type(x))\n",
    "\n",
    "# 2. y = 4.5 -----> integere çevirelim. Çevirdikten sonra beri tipinide yazdıralım.\n",
    "y = 4.5\n",
    "y = int(y)\n",
    "print(\"y:\", y, \", type:\", type(y))\n",
    "\n",
    "# 3. z = \"8\" -----> integera çevirelim. Çevirdikten sonra beri tipinide yazdıralım.\n",
    "z = \"8\"\n",
    "z = int(z)\n",
    "print(\"z:\", z, \", type:\", type(z))\n",
    "\n",
    "# 4. a = \"12\" -----> floata çevirelim. Çevirdikten sonra beri tipinide yazdıralım.\n",
    "a = \"12\"\n",
    "a = float(a)\n",
    "print(\"a:\", a, \", type:\", type(a))\n",
    "\n",
    "# 5. b = \"46.8\" ------> integera çevirelim. Çevirdikten sonra beri tipinide yazdıralım.\n",
    "b = \"46.8\"\n",
    "b = int(float(b))\n",
    "print(\"b:\", b, \", type:\", type(b))"
   ]
  },
  {
   "cell_type": "code",
   "execution_count": 3,
   "id": "c25bc5bc-28f3-4297-a8bf-d176d56c51a2",
   "metadata": {},
   "outputs": [
    {
     "name": "stdout",
     "output_type": "stream",
     "text": [
      "Demet > Yusuf: False\n",
      "Demet < Yusuf: True\n",
      "Demet == Doruk: True\n",
      "Yusuf != Doruk: True\n",
      "Demet > Yusuf ve Demet == Doruk: False\n",
      "Demet < Yusuf veya Yusuf > Doruk: True\n",
      "Değil (not) operatörü ile: True\n"
     ]
    }
   ],
   "source": [
    "# 2. SORU \n",
    "\n",
    "# Yaş değerlerini atama\n",
    "demet_yas = 25\n",
    "yusuf_yas = 30\n",
    "doruk_yas = 25\n",
    "\n",
    "# Karşılaştırma operatörleri\n",
    "print(\"Demet > Yusuf:\", demet_yas > yusuf_yas)           # False\n",
    "print(\"Demet < Yusuf:\", demet_yas < yusuf_yas)           # True\n",
    "print(\"Demet == Doruk:\", demet_yas == doruk_yas)         # True\n",
    "print(\"Yusuf != Doruk:\", yusuf_yas != doruk_yas)         # True\n",
    "\n",
    "# Mantıksal operatörlerle birleştirme\n",
    "print(\"Demet > Yusuf ve Demet == Doruk:\",\n",
    "      (demet_yas > yusuf_yas) and (demet_yas == doruk_yas))   # False\n",
    "\n",
    "print(\"Demet < Yusuf veya Yusuf > Doruk:\",\n",
    "      (demet_yas < yusuf_yas) or (yusuf_yas > doruk_yas))     # True\n",
    "\n",
    "print(\"Değil (not) operatörü ile:\",\n",
    "      not (demet_yas == yusuf_yas))                           # True\n",
    "\n"
   ]
  },
  {
   "cell_type": "code",
   "execution_count": 5,
   "id": "9cbbcd69-d896-4c6c-a993-51eeb107a48f",
   "metadata": {},
   "outputs": [
    {
     "name": "stdin",
     "output_type": "stream",
     "text": [
      "Birinci sayıyı girin:  52\n",
      "İkinci sayıyı girin:  54\n"
     ]
    },
    {
     "name": "stdout",
     "output_type": "stream",
     "text": [
      "52.0 + 54.0 = 106.0\n",
      "52.0 - 54.0 = -2.0\n",
      "52.0 * 54.0 = 2808.0\n",
      "52.0 / 54.0 = 0.9629629629629629\n"
     ]
    }
   ],
   "source": [
    "#3.SORU\n",
    "\n",
    "say1 = float(input(\"Birinci sayıyı girin: \"))\n",
    "say2 = float(input(\"İkinci sayıyı girin: \"))\n",
    "\n",
    "# Toplama\n",
    "toplam = say1 + say2\n",
    "print(f\"{say1} + {say2} = {toplam}\")\n",
    "\n",
    "# Çıkarma\n",
    "fark = say1 - say2\n",
    "print(f\"{say1} - {say2} = {fark}\")\n",
    "\n",
    "# Çarpma\n",
    "carpim = say1 * say2\n",
    "print(f\"{say1} * {say2} = {carpim}\")\n",
    "\n",
    "# Bölme (sıfıra bölme durumunu kontrol edelim)\n",
    "if say2 != 0:\n",
    "    bolum = say1 / say2\n",
    "    print(f\"{say1} / {say2} = {bolum}\")\n",
    "else:\n",
    "    print(\"Hata: Birinci sayıyı ikinci sayıya bölemem. (Sıfıra bölme hatası.)\")"
   ]
  },
  {
   "cell_type": "code",
   "execution_count": 7,
   "id": "6b2da307-a23c-496f-b77d-36e731880c33",
   "metadata": {},
   "outputs": [
    {
     "name": "stdin",
     "output_type": "stream",
     "text": [
      "İsminizi girin:  demet\n",
      "Yaşınızı girin:  27\n",
      "Şehrinizi girin:  bursa\n",
      "Mesleğinizi girin:  mühendis\n"
     ]
    },
    {
     "name": "stdout",
     "output_type": "stream",
     "text": [
      "\n",
      "Kayıt Bilgileriniz:\n",
      "İsim   : demet\n",
      "Yaş    : 27\n",
      "Şehir  : bursa\n",
      "Meslek : mühendis\n"
     ]
    }
   ],
   "source": [
    "#4.SORU\n",
    "\n",
    "isim    = input(\"İsminizi girin: \")\n",
    "yas     = int(input(\"Yaşınızı girin: \"))      \n",
    "sehir   = input(\"Şehrinizi girin: \")\n",
    "meslek  = input(\"Mesleğinizi girin: \")\n",
    "\n",
    "\n",
    "print(\"\\nKayıt Bilgileriniz:\")\n",
    "print(f\"İsim   : {isim}\")\n",
    "print(f\"Yaş    : {yas}\")\n",
    "print(f\"Şehir  : {sehir}\")\n",
    "print(f\"Meslek : {meslek}\")"
   ]
  },
  {
   "cell_type": "code",
   "execution_count": 9,
   "id": "220298db-2d63-435f-86d7-4b3b8e8634e2",
   "metadata": {},
   "outputs": [
    {
     "name": "stdout",
     "output_type": "stream",
     "text": [
      "1. Kelimeler listesi: ['Hi-Kod', 'Veri', 'Bilimi', 'Atölyesi']\n",
      "   1. kelime: Hi-Kod\n",
      "   2. kelime: Veri\n",
      "   3. kelime: Bilimi\n",
      "   4. kelime: Atölyesi\n",
      "\n",
      "BÜYÜK HARFLER: HI-KOD VERI BILIMI ATÖLYESI\n",
      "küçük harfler: hi-kod veri bilimi atölyesi\n",
      "\n",
      "Çift rakamlar: 02468\n",
      "Tek   rakamlar: 13579\n"
     ]
    }
   ],
   "source": [
    "# 5. SORU\n",
    "\n",
    "s = \"Hi-Kod Veri Bilimi Atölyesi\"\n",
    "\n",
    "\n",
    "kelimeler = s.split()  \n",
    "# kelimeler = [\"Hi-Kod\", \"Veri\", \"Bilimi\", \"Atölyesi\"]\n",
    "\n",
    "\n",
    "print(\"1. Kelimeler listesi:\", kelimeler)\n",
    "print(\"   1. kelime:\", kelimeler[0])\n",
    "print(\"   2. kelime:\", kelimeler[1])\n",
    "print(\"   3. kelime:\", kelimeler[2])\n",
    "print(\"   4. kelime:\", kelimeler[3])\n",
    "\n",
    "# büyük harfe çevirme:\n",
    "buyuk = s.upper()\n",
    "print(\"\\nBÜYÜK HARFLER:\", buyuk)\n",
    "\n",
    "# küçük harfe çevirme:\n",
    "kucuk = s.lower()\n",
    "print(\"küçük harfler:\", kucuk)\n",
    "\n",
    "# Rakamlardan oluşan başka bir ifade:\n",
    "r = \"0123456789\"\n",
    "\n",
    "# Yalnızca çift sayılar:\n",
    "cift = r[0::2]  \n",
    "\n",
    "\n",
    "#   b) Yalnızca tek sayılar:\n",
    "tek  = r[1::2]   \n",
    "\n",
    "print(\"\\nÇift rakamlar:\", cift)\n",
    "print(\"Tek   rakamlar:\", tek)"
   ]
  },
  {
   "cell_type": "code",
   "execution_count": null,
   "id": "a6b654ac-436a-4a4f-ae87-f0e064e0a451",
   "metadata": {},
   "outputs": [],
   "source": []
  }
 ],
 "metadata": {
  "kernelspec": {
   "display_name": "Python [conda env:base] *",
   "language": "python",
   "name": "conda-base-py"
  },
  "language_info": {
   "codemirror_mode": {
    "name": "ipython",
    "version": 3
   },
   "file_extension": ".py",
   "mimetype": "text/x-python",
   "name": "python",
   "nbconvert_exporter": "python",
   "pygments_lexer": "ipython3",
   "version": "3.12.7"
  }
 },
 "nbformat": 4,
 "nbformat_minor": 5
}
